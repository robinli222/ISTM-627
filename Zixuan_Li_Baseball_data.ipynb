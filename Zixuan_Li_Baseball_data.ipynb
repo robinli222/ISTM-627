{
 "cells": [
  {
   "cell_type": "code",
   "execution_count": 1,
   "metadata": {
    "executionInfo": {
     "elapsed": 741,
     "status": "ok",
     "timestamp": 1620880318711,
     "user": {
      "displayName": "Alfonso Berumen",
      "photoUrl": "https://lh3.googleusercontent.com/a-/AOh14GjK1mM26Mrg9DSRu8mMOVRbsLmOw4u0ocdi3--J=s64",
      "userId": "07903777042589374640"
     },
     "user_tz": 420
    },
    "id": "dhzmSq_OQhAV"
   },
   "outputs": [],
   "source": [
    "import pandas as pd\n",
    "import numpy as np\n",
    "import matplotlib.pyplot as plt\n",
    "%matplotlib inline\n",
    "import seaborn as sns\n",
    "\n",
    "import scipy\n",
    "import sklearn\n",
    "import os as os\n",
    "import statsmodels.formula.api as smf"
   ]
  },
  {
   "cell_type": "code",
   "execution_count": 2,
   "metadata": {
    "colab": {
     "base_uri": "https://localhost:8080/",
     "height": 1000
    },
    "executionInfo": {
     "elapsed": 353,
     "status": "ok",
     "timestamp": 1620880103462,
     "user": {
      "displayName": "Alfonso Berumen",
      "photoUrl": "https://lh3.googleusercontent.com/a-/AOh14GjK1mM26Mrg9DSRu8mMOVRbsLmOw4u0ocdi3--J=s64",
      "userId": "07903777042589374640"
     },
     "user_tz": 420
    },
    "id": "N09qDpJEZRRJ",
    "outputId": "1e12e3fc-80fc-415c-835c-6588f991eac2"
   },
   "outputs": [],
   "source": [
    "mlb_data=pd.read_csv(\"MLB Attendance.csv\",encoding = \"utf-8\")"
   ]
  },
  {
   "cell_type": "code",
   "execution_count": 3,
   "metadata": {
    "executionInfo": {
     "elapsed": 330,
     "status": "ok",
     "timestamp": 1620880162642,
     "user": {
      "displayName": "Alfonso Berumen",
      "photoUrl": "https://lh3.googleusercontent.com/a-/AOh14GjK1mM26Mrg9DSRu8mMOVRbsLmOw4u0ocdi3--J=s64",
      "userId": "07903777042589374640"
     },
     "user_tz": 420
    },
    "id": "OKpg23BGZZz2"
   },
   "outputs": [],
   "source": [
    "cc_mlb_data = mlb_data[(mlb_data.home_team == \"Chicago Cubs\")]"
   ]
  },
  {
   "cell_type": "code",
   "execution_count": 4,
   "metadata": {
    "colab": {
     "base_uri": "https://localhost:8080/"
    },
    "executionInfo": {
     "elapsed": 266,
     "status": "ok",
     "timestamp": 1620880207340,
     "user": {
      "displayName": "Alfonso Berumen",
      "photoUrl": "https://lh3.googleusercontent.com/a-/AOh14GjK1mM26Mrg9DSRu8mMOVRbsLmOw4u0ocdi3--J=s64",
      "userId": "07903777042589374640"
     },
     "user_tz": 420
    },
    "id": "xnmy9eDZb8kA",
    "outputId": "0ffb573b-6230-4e53-effe-095cbcc2be54"
   },
   "outputs": [
    {
     "name": "stderr",
     "output_type": "stream",
     "text": [
      "<ipython-input-4-a99e5982ca36>:2: SettingWithCopyWarning: \n",
      "A value is trying to be set on a copy of a slice from a DataFrame.\n",
      "Try using .loc[row_indexer,col_indexer] = value instead\n",
      "\n",
      "See the caveats in the documentation: https://pandas.pydata.org/pandas-docs/stable/user_guide/indexing.html#returning-a-view-versus-a-copy\n",
      "  cc_mlb_data['pct_full'] = (cc_mlb_data['attend']/41009)*100\n"
     ]
    }
   ],
   "source": [
    "#Cubs capacity = 41,009\n",
    "cc_mlb_data['pct_full'] = (cc_mlb_data['attend']/41009)*100"
   ]
  },
  {
   "cell_type": "code",
   "execution_count": 5,
   "metadata": {
    "colab": {
     "base_uri": "https://localhost:8080/",
     "height": 298
    },
    "executionInfo": {
     "elapsed": 797,
     "status": "ok",
     "timestamp": 1620880391153,
     "user": {
      "displayName": "Alfonso Berumen",
      "photoUrl": "https://lh3.googleusercontent.com/a-/AOh14GjK1mM26Mrg9DSRu8mMOVRbsLmOw4u0ocdi3--J=s64",
      "userId": "07903777042589374640"
     },
     "user_tz": 420
    },
    "id": "b3J5W68EaxR_",
    "outputId": "1c7c17f2-ea30-4228-a68b-2aae762dd036"
   },
   "outputs": [
    {
     "data": {
      "image/png": "[encoded data removed]",
      "text/plain": [
       "<Figure size 432x288 with 1 Axes>"
      ]
     },
     "metadata": {
      "needs_background": "light"
     },
     "output_type": "display_data"
    }
   ],
   "source": [
    "#boxplot\n",
    "boxplot = sns.boxplot(x=\"day_of_week\", y=\"attend\", data=cc_mlb_data)\n",
    "boxplot\n",
    "plt.savefig(\"figure.png\", bbox_inches = \"tight\")"
   ]
  },
  {
   "cell_type": "code",
   "execution_count": 6,
   "metadata": {
    "colab": {
     "base_uri": "https://localhost:8080/",
     "height": 297
    },
    "executionInfo": {
     "elapsed": 873,
     "status": "ok",
     "timestamp": 1620880397817,
     "user": {
      "displayName": "Alfonso Berumen",
      "photoUrl": "https://lh3.googleusercontent.com/a-/AOh14GjK1mM26Mrg9DSRu8mMOVRbsLmOw4u0ocdi3--J=s64",
      "userId": "07903777042589374640"
     },
     "user_tz": 420
    },
    "id": "HyxPNNGGbOs9",
    "outputId": "0947a4b3-1ba0-49ac-fb45-69ea15428621"
   },
   "outputs": [
    {
     "data": {
      "image/png": "[encoded data removed]",
      "text/plain": [
       "<Figure size 432x288 with 1 Axes>"
      ]
     },
     "metadata": {
      "needs_background": "light"
     },
     "output_type": "display_data"
    }
   ],
   "source": [
    "boxplot = sns.boxplot(x=\"month\", y=\"attend\", data=cc_mlb_data)\n",
    "boxplot\n",
    "plt.savefig(\"figure.png\", bbox_inches = \"tight\")"
   ]
  },
  {
   "cell_type": "code",
   "execution_count": 7,
   "metadata": {
    "id": "s_nE1J3ZblZ7"
   },
   "outputs": [
    {
     "data": {
      "image/png": "[encoded data removed]",
      "text/plain": [
       "<Figure size 432x288 with 1 Axes>"
      ]
     },
     "metadata": {
      "needs_background": "light"
     },
     "output_type": "display_data"
    }
   ],
   "source": [
    "#histogram\n",
    "plt.hist(cc_mlb_data[\"attend\"], bins = 20)\n",
    "plt.show()"
   ]
  },
  {
   "cell_type": "code",
   "execution_count": 8,
   "metadata": {
    "colab": {
     "base_uri": "https://localhost:8080/",
     "height": 143
    },
    "executionInfo": {
     "elapsed": 586,
     "status": "ok",
     "timestamp": 1620880422092,
     "user": {
      "displayName": "Alfonso Berumen",
      "photoUrl": "https://lh3.googleusercontent.com/a-/AOh14GjK1mM26Mrg9DSRu8mMOVRbsLmOw4u0ocdi3--J=s64",
      "userId": "07903777042589374640"
     },
     "user_tz": 420
    },
    "id": "xxFrJ4ewettp",
    "outputId": "9d0bc105-7d5b-4317-b744-44bb6d9deb07"
   },
   "outputs": [
    {
     "data": {
      "text/html": [
       "<div>\n",
       "<style scoped>\n",
       "    .dataframe tbody tr th:only-of-type {\n",
       "        vertical-align: middle;\n",
       "    }\n",
       "\n",
       "    .dataframe tbody tr th {\n",
       "        vertical-align: top;\n",
       "    }\n",
       "\n",
       "    .dataframe thead th {\n",
       "        text-align: right;\n",
       "    }\n",
       "</style>\n",
       "<table border=\"1\" class=\"dataframe\">\n",
       "  <thead>\n",
       "    <tr style=\"text-align: right;\">\n",
       "      <th>col_0</th>\n",
       "      <th>count</th>\n",
       "    </tr>\n",
       "    <tr>\n",
       "      <th>bobblehead</th>\n",
       "      <th></th>\n",
       "    </tr>\n",
       "  </thead>\n",
       "  <tbody>\n",
       "    <tr>\n",
       "      <th>NO</th>\n",
       "      <td>77</td>\n",
       "    </tr>\n",
       "    <tr>\n",
       "      <th>YES</th>\n",
       "      <td>4</td>\n",
       "    </tr>\n",
       "  </tbody>\n",
       "</table>\n",
       "</div>"
      ],
      "text/plain": [
       "col_0       count\n",
       "bobblehead       \n",
       "NO             77\n",
       "YES             4"
      ]
     },
     "execution_count": 8,
     "metadata": {},
     "output_type": "execute_result"
    }
   ],
   "source": [
    "#promotion counts\n",
    "pd.crosstab(index=cc_mlb_data['bobblehead'], columns='count')"
   ]
  },
  {
   "cell_type": "code",
   "execution_count": 9,
   "metadata": {
    "colab": {
     "base_uri": "https://localhost:8080/",
     "height": 143
    },
    "executionInfo": {
     "elapsed": 586,
     "status": "ok",
     "timestamp": 1620880422092,
     "user": {
      "displayName": "Alfonso Berumen",
      "photoUrl": "https://lh3.googleusercontent.com/a-/AOh14GjK1mM26Mrg9DSRu8mMOVRbsLmOw4u0ocdi3--J=s64",
      "userId": "07903777042589374640"
     },
     "user_tz": 420
    },
    "id": "xxFrJ4ewettp",
    "outputId": "9d0bc105-7d5b-4317-b744-44bb6d9deb07"
   },
   "outputs": [
    {
     "data": {
      "text/html": [
       "<div>\n",
       "<style scoped>\n",
       "    .dataframe tbody tr th:only-of-type {\n",
       "        vertical-align: middle;\n",
       "    }\n",
       "\n",
       "    .dataframe tbody tr th {\n",
       "        vertical-align: top;\n",
       "    }\n",
       "\n",
       "    .dataframe thead th {\n",
       "        text-align: right;\n",
       "    }\n",
       "</style>\n",
       "<table border=\"1\" class=\"dataframe\">\n",
       "  <thead>\n",
       "    <tr style=\"text-align: right;\">\n",
       "      <th>col_0</th>\n",
       "      <th>count</th>\n",
       "    </tr>\n",
       "    <tr>\n",
       "      <th>shirt</th>\n",
       "      <th></th>\n",
       "    </tr>\n",
       "  </thead>\n",
       "  <tbody>\n",
       "    <tr>\n",
       "      <th>NO</th>\n",
       "      <td>76</td>\n",
       "    </tr>\n",
       "    <tr>\n",
       "      <th>YES</th>\n",
       "      <td>5</td>\n",
       "    </tr>\n",
       "  </tbody>\n",
       "</table>\n",
       "</div>"
      ],
      "text/plain": [
       "col_0  count\n",
       "shirt       \n",
       "NO        76\n",
       "YES        5"
      ]
     },
     "execution_count": 9,
     "metadata": {},
     "output_type": "execute_result"
    }
   ],
   "source": [
    "pd.crosstab(index=cc_mlb_data['shirt'], columns='count')"
   ]
  },
  {
   "cell_type": "code",
   "execution_count": 10,
   "metadata": {
    "colab": {
     "base_uri": "https://localhost:8080/",
     "height": 143
    },
    "executionInfo": {
     "elapsed": 586,
     "status": "ok",
     "timestamp": 1620880422092,
     "user": {
      "displayName": "Alfonso Berumen",
      "photoUrl": "https://lh3.googleusercontent.com/a-/AOh14GjK1mM26Mrg9DSRu8mMOVRbsLmOw4u0ocdi3--J=s64",
      "userId": "07903777042589374640"
     },
     "user_tz": 420
    },
    "id": "xxFrJ4ewettp",
    "outputId": "9d0bc105-7d5b-4317-b744-44bb6d9deb07"
   },
   "outputs": [
    {
     "data": {
      "text/html": [
       "<div>\n",
       "<style scoped>\n",
       "    .dataframe tbody tr th:only-of-type {\n",
       "        vertical-align: middle;\n",
       "    }\n",
       "\n",
       "    .dataframe tbody tr th {\n",
       "        vertical-align: top;\n",
       "    }\n",
       "\n",
       "    .dataframe thead th {\n",
       "        text-align: right;\n",
       "    }\n",
       "</style>\n",
       "<table border=\"1\" class=\"dataframe\">\n",
       "  <thead>\n",
       "    <tr style=\"text-align: right;\">\n",
       "      <th>col_0</th>\n",
       "      <th>count</th>\n",
       "    </tr>\n",
       "    <tr>\n",
       "      <th>cap</th>\n",
       "      <th></th>\n",
       "    </tr>\n",
       "  </thead>\n",
       "  <tbody>\n",
       "    <tr>\n",
       "      <th>NO</th>\n",
       "      <td>75</td>\n",
       "    </tr>\n",
       "    <tr>\n",
       "      <th>YES</th>\n",
       "      <td>6</td>\n",
       "    </tr>\n",
       "  </tbody>\n",
       "</table>\n",
       "</div>"
      ],
      "text/plain": [
       "col_0  count\n",
       "cap         \n",
       "NO        75\n",
       "YES        6"
      ]
     },
     "execution_count": 10,
     "metadata": {},
     "output_type": "execute_result"
    }
   ],
   "source": [
    "pd.crosstab(index=cc_mlb_data['cap'], columns='count')"
   ]
  },
  {
   "cell_type": "code",
   "execution_count": 11,
   "metadata": {
    "colab": {
     "base_uri": "https://localhost:8080/",
     "height": 143
    },
    "executionInfo": {
     "elapsed": 586,
     "status": "ok",
     "timestamp": 1620880422092,
     "user": {
      "displayName": "Alfonso Berumen",
      "photoUrl": "https://lh3.googleusercontent.com/a-/AOh14GjK1mM26Mrg9DSRu8mMOVRbsLmOw4u0ocdi3--J=s64",
      "userId": "07903777042589374640"
     },
     "user_tz": 420
    },
    "id": "xxFrJ4ewettp",
    "outputId": "9d0bc105-7d5b-4317-b744-44bb6d9deb07"
   },
   "outputs": [
    {
     "data": {
      "text/html": [
       "<div>\n",
       "<style scoped>\n",
       "    .dataframe tbody tr th:only-of-type {\n",
       "        vertical-align: middle;\n",
       "    }\n",
       "\n",
       "    .dataframe tbody tr th {\n",
       "        vertical-align: top;\n",
       "    }\n",
       "\n",
       "    .dataframe thead th {\n",
       "        text-align: right;\n",
       "    }\n",
       "</style>\n",
       "<table border=\"1\" class=\"dataframe\">\n",
       "  <thead>\n",
       "    <tr style=\"text-align: right;\">\n",
       "      <th>col_0</th>\n",
       "      <th>count</th>\n",
       "    </tr>\n",
       "    <tr>\n",
       "      <th>fireworks</th>\n",
       "      <th></th>\n",
       "    </tr>\n",
       "  </thead>\n",
       "  <tbody>\n",
       "    <tr>\n",
       "      <th>NO</th>\n",
       "      <td>81</td>\n",
       "    </tr>\n",
       "  </tbody>\n",
       "</table>\n",
       "</div>"
      ],
      "text/plain": [
       "col_0      count\n",
       "fireworks       \n",
       "NO            81"
      ]
     },
     "execution_count": 11,
     "metadata": {},
     "output_type": "execute_result"
    }
   ],
   "source": [
    "pd.crosstab(index=cc_mlb_data['fireworks'], columns='count')"
   ]
  },
  {
   "cell_type": "code",
   "execution_count": 12,
   "metadata": {
    "colab": {
     "base_uri": "https://localhost:8080/",
     "height": 318
    },
    "executionInfo": {
     "elapsed": 297,
     "status": "ok",
     "timestamp": 1620880475226,
     "user": {
      "displayName": "Alfonso Berumen",
      "photoUrl": "https://lh3.googleusercontent.com/a-/AOh14GjK1mM26Mrg9DSRu8mMOVRbsLmOw4u0ocdi3--J=s64",
      "userId": "07903777042589374640"
     },
     "user_tz": 420
    },
    "id": "tb2i1JHEeWP6",
    "outputId": "ee65aca7-1657-40cf-a5f8-2de6da546a36"
   },
   "outputs": [
    {
     "data": {
      "text/html": [
       "<table class=\"simpletable\">\n",
       "<caption>OLS Regression Results</caption>\n",
       "<tr>\n",
       "  <th>Dep. Variable:</th>         <td>attend</td>      <th>  R-squared:         </th> <td>   0.551</td>\n",
       "</tr>\n",
       "<tr>\n",
       "  <th>Model:</th>                   <td>OLS</td>       <th>  Adj. R-squared:    </th> <td>   0.448</td>\n",
       "</tr>\n",
       "<tr>\n",
       "  <th>Method:</th>             <td>Least Squares</td>  <th>  F-statistic:       </th> <td>   5.325</td>\n",
       "</tr>\n",
       "<tr>\n",
       "  <th>Date:</th>             <td>Wed, 19 May 2021</td> <th>  Prob (F-statistic):</th> <td>8.68e-07</td>\n",
       "</tr>\n",
       "<tr>\n",
       "  <th>Time:</th>                 <td>10:44:33</td>     <th>  Log-Likelihood:    </th> <td> -747.55</td>\n",
       "</tr>\n",
       "<tr>\n",
       "  <th>No. Observations:</th>      <td>    81</td>      <th>  AIC:               </th> <td>   1527.</td>\n",
       "</tr>\n",
       "<tr>\n",
       "  <th>Df Residuals:</th>          <td>    65</td>      <th>  BIC:               </th> <td>   1565.</td>\n",
       "</tr>\n",
       "<tr>\n",
       "  <th>Df Model:</th>              <td>    15</td>      <th>                     </th>     <td> </td>   \n",
       "</tr>\n",
       "<tr>\n",
       "  <th>Covariance Type:</th>      <td>nonrobust</td>    <th>                     </th>     <td> </td>   \n",
       "</tr>\n",
       "</table>\n",
       "<table class=\"simpletable\">\n",
       "<tr>\n",
       "              <td></td>                <th>coef</th>     <th>std err</th>      <th>t</th>      <th>P>|t|</th>  <th>[0.025</th>    <th>0.975]</th>  \n",
       "</tr>\n",
       "<tr>\n",
       "  <th>Intercept</th>                <td> 3.617e+04</td> <td> 1116.284</td> <td>   32.401</td> <td> 0.000</td> <td> 3.39e+04</td> <td> 3.84e+04</td>\n",
       "</tr>\n",
       "<tr>\n",
       "  <th>day_of_week[T.Monday]</th>    <td>  703.1828</td> <td> 1263.360</td> <td>    0.557</td> <td> 0.580</td> <td>-1819.920</td> <td> 3226.286</td>\n",
       "</tr>\n",
       "<tr>\n",
       "  <th>day_of_week[T.Saturday]</th>  <td> 3553.1097</td> <td> 1106.573</td> <td>    3.211</td> <td> 0.002</td> <td> 1343.130</td> <td> 5763.089</td>\n",
       "</tr>\n",
       "<tr>\n",
       "  <th>day_of_week[T.Sunday]</th>    <td> 1757.3207</td> <td> 1119.111</td> <td>    1.570</td> <td> 0.121</td> <td> -477.698</td> <td> 3992.339</td>\n",
       "</tr>\n",
       "<tr>\n",
       "  <th>day_of_week[T.Thursday]</th>  <td> -149.3167</td> <td> 1271.121</td> <td>   -0.117</td> <td> 0.907</td> <td>-2687.920</td> <td> 2389.287</td>\n",
       "</tr>\n",
       "<tr>\n",
       "  <th>day_of_week[T.Tuesday]</th>   <td>  347.3297</td> <td> 1157.082</td> <td>    0.300</td> <td> 0.765</td> <td>-1963.523</td> <td> 2658.182</td>\n",
       "</tr>\n",
       "<tr>\n",
       "  <th>day_of_week[T.Wednesday]</th> <td> -192.8322</td> <td> 1125.732</td> <td>   -0.171</td> <td> 0.865</td> <td>-2441.075</td> <td> 2055.411</td>\n",
       "</tr>\n",
       "<tr>\n",
       "  <th>month[T.AUG]</th>             <td>-3495.2949</td> <td> 1056.140</td> <td>   -3.309</td> <td> 0.002</td> <td>-5604.552</td> <td>-1386.038</td>\n",
       "</tr>\n",
       "<tr>\n",
       "  <th>month[T.JUL]</th>             <td> -847.6871</td> <td> 1119.356</td> <td>   -0.757</td> <td> 0.452</td> <td>-3083.195</td> <td> 1387.821</td>\n",
       "</tr>\n",
       "<tr>\n",
       "  <th>month[T.JUN]</th>             <td> 1154.2281</td> <td> 1153.098</td> <td>    1.001</td> <td> 0.321</td> <td>-1148.667</td> <td> 3457.123</td>\n",
       "</tr>\n",
       "<tr>\n",
       "  <th>month[T.MAY]</th>             <td>  783.9829</td> <td> 1095.091</td> <td>    0.716</td> <td> 0.477</td> <td>-1403.065</td> <td> 2971.031</td>\n",
       "</tr>\n",
       "<tr>\n",
       "  <th>month[T.OCT]</th>             <td>-5474.6054</td> <td> 1810.108</td> <td>   -3.024</td> <td> 0.004</td> <td>-9089.641</td> <td>-1859.570</td>\n",
       "</tr>\n",
       "<tr>\n",
       "  <th>month[T.SEP]</th>             <td>-5121.7669</td> <td> 1125.947</td> <td>   -4.549</td> <td> 0.000</td> <td>-7370.437</td> <td>-2873.096</td>\n",
       "</tr>\n",
       "<tr>\n",
       "  <th>bobblehead[T.YES]</th>        <td>-3199.2359</td> <td> 1559.147</td> <td>   -2.052</td> <td> 0.044</td> <td>-6313.067</td> <td>  -85.405</td>\n",
       "</tr>\n",
       "<tr>\n",
       "  <th>cap[T.YES]</th>               <td>  341.8228</td> <td> 1286.057</td> <td>    0.266</td> <td> 0.791</td> <td>-2226.611</td> <td> 2910.256</td>\n",
       "</tr>\n",
       "<tr>\n",
       "  <th>shirt[T.YES]</th>             <td> 1517.0042</td> <td> 1308.201</td> <td>    1.160</td> <td> 0.250</td> <td>-1095.653</td> <td> 4129.661</td>\n",
       "</tr>\n",
       "</table>\n",
       "<table class=\"simpletable\">\n",
       "<tr>\n",
       "  <th>Omnibus:</th>       <td> 2.494</td> <th>  Durbin-Watson:     </th> <td>   1.692</td>\n",
       "</tr>\n",
       "<tr>\n",
       "  <th>Prob(Omnibus):</th> <td> 0.287</td> <th>  Jarque-Bera (JB):  </th> <td>   1.811</td>\n",
       "</tr>\n",
       "<tr>\n",
       "  <th>Skew:</th>          <td> 0.325</td> <th>  Prob(JB):          </th> <td>   0.404</td>\n",
       "</tr>\n",
       "<tr>\n",
       "  <th>Kurtosis:</th>      <td> 3.338</td> <th>  Cond. No.          </th> <td>    9.18</td>\n",
       "</tr>\n",
       "</table><br/><br/>Notes:<br/>[1] Standard Errors assume that the covariance matrix of the errors is correctly specified."
      ],
      "text/plain": [
       "<class 'statsmodels.iolib.summary.Summary'>\n",
       "\"\"\"\n",
       "                            OLS Regression Results                            \n",
       "==============================================================================\n",
       "Dep. Variable:                 attend   R-squared:                       0.551\n",
       "Model:                            OLS   Adj. R-squared:                  0.448\n",
       "Method:                 Least Squares   F-statistic:                     5.325\n",
       "Date:                Wed, 19 May 2021   Prob (F-statistic):           8.68e-07\n",
       "Time:                        10:44:33   Log-Likelihood:                -747.55\n",
       "No. Observations:                  81   AIC:                             1527.\n",
       "Df Residuals:                      65   BIC:                             1565.\n",
       "Df Model:                          15                                         \n",
       "Covariance Type:            nonrobust                                         \n",
       "============================================================================================\n",
       "                               coef    std err          t      P>|t|      [0.025      0.975]\n",
       "--------------------------------------------------------------------------------------------\n",
       "Intercept                 3.617e+04   1116.284     32.401      0.000    3.39e+04    3.84e+04\n",
       "day_of_week[T.Monday]      703.1828   1263.360      0.557      0.580   -1819.920    3226.286\n",
       "day_of_week[T.Saturday]   3553.1097   1106.573      3.211      0.002    1343.130    5763.089\n",
       "day_of_week[T.Sunday]     1757.3207   1119.111      1.570      0.121    -477.698    3992.339\n",
       "day_of_week[T.Thursday]   -149.3167   1271.121     -0.117      0.907   -2687.920    2389.287\n",
       "day_of_week[T.Tuesday]     347.3297   1157.082      0.300      0.765   -1963.523    2658.182\n",
       "day_of_week[T.Wednesday]  -192.8322   1125.732     -0.171      0.865   -2441.075    2055.411\n",
       "month[T.AUG]             -3495.2949   1056.140     -3.309      0.002   -5604.552   -1386.038\n",
       "month[T.JUL]              -847.6871   1119.356     -0.757      0.452   -3083.195    1387.821\n",
       "month[T.JUN]              1154.2281   1153.098      1.001      0.321   -1148.667    3457.123\n",
       "month[T.MAY]               783.9829   1095.091      0.716      0.477   -1403.065    2971.031\n",
       "month[T.OCT]             -5474.6054   1810.108     -3.024      0.004   -9089.641   -1859.570\n",
       "month[T.SEP]             -5121.7669   1125.947     -4.549      0.000   -7370.437   -2873.096\n",
       "bobblehead[T.YES]        -3199.2359   1559.147     -2.052      0.044   -6313.067     -85.405\n",
       "cap[T.YES]                 341.8228   1286.057      0.266      0.791   -2226.611    2910.256\n",
       "shirt[T.YES]              1517.0042   1308.201      1.160      0.250   -1095.653    4129.661\n",
       "==============================================================================\n",
       "Omnibus:                        2.494   Durbin-Watson:                   1.692\n",
       "Prob(Omnibus):                  0.287   Jarque-Bera (JB):                1.811\n",
       "Skew:                           0.325   Prob(JB):                        0.404\n",
       "Kurtosis:                       3.338   Cond. No.                         9.18\n",
       "==============================================================================\n",
       "\n",
       "Notes:\n",
       "[1] Standard Errors assume that the covariance matrix of the errors is correctly specified.\n",
       "\"\"\""
      ]
     },
     "execution_count": 12,
     "metadata": {},
     "output_type": "execute_result"
    }
   ],
   "source": [
    "#model\n",
    "est = smf.ols('attend ~ day_of_week + month + bobblehead + cap + shirt',cc_mlb_data).fit()\n",
    "est.summary()"
   ]
  },
  {
   "cell_type": "code",
   "execution_count": 13,
   "metadata": {
    "executionInfo": {
     "elapsed": 803,
     "status": "ok",
     "timestamp": 1620880594623,
     "user": {
      "displayName": "Alfonso Berumen",
      "photoUrl": "https://lh3.googleusercontent.com/a-/AOh14GjK1mM26Mrg9DSRu8mMOVRbsLmOw4u0ocdi3--J=s64",
      "userId": "07903777042589374640"
     },
     "user_tz": 420
    },
    "id": "2ijw7MYufRZW"
   },
   "outputs": [],
   "source": [
    "#predicted values\n",
    "#using the training data\n",
    "pred = est.fittedvalues\n",
    "resid = est.resid\n",
    "\n",
    "# disable chained assignments\n",
    "pd.options.mode.chained_assignment = None \n",
    "\n",
    "cc_mlb_data['yhat'] = pred #predicted values\n",
    "cc_mlb_data['resid'] = resid #residual values"
   ]
  },
  {
   "cell_type": "code",
   "execution_count": 14,
   "metadata": {
    "colab": {
     "base_uri": "https://localhost:8080/",
     "height": 295
    },
    "executionInfo": {
     "elapsed": 657,
     "status": "ok",
     "timestamp": 1620880626492,
     "user": {
      "displayName": "Alfonso Berumen",
      "photoUrl": "https://lh3.googleusercontent.com/a-/AOh14GjK1mM26Mrg9DSRu8mMOVRbsLmOw4u0ocdi3--J=s64",
      "userId": "07903777042589374640"
     },
     "user_tz": 420
    },
    "id": "j5B7pvKrfXFQ",
    "outputId": "011b8bd3-e90b-463f-be3c-d37b0c645410"
   },
   "outputs": [
    {
     "name": "stderr",
     "output_type": "stream",
     "text": [
      "<ipython-input-14-c6f7c67c0eb8>:7: UserWarning: color is redundantly defined by the 'color' keyword argument and the fmt string \"k-\" (-> color='k'). The keyword argument will take precedence.\n",
      "  plt.plot([lineStart, lineEnd], [lineStart, lineEnd], 'k-', color = 'r')\n"
     ]
    },
    {
     "data": {
      "image/png": "[encoded data removed]",
      "text/plain": [
       "<Figure size 432x288 with 1 Axes>"
      ]
     },
     "metadata": {
      "needs_background": "light"
     },
     "output_type": "display_data"
    }
   ],
   "source": [
    "#plot the actual and predicted\n",
    "#add a line\n",
    "lineStart = cc_mlb_data.attend.min() \n",
    "lineEnd = cc_mlb_data.attend.max()\n",
    "plt.figure()\n",
    "plt.scatter(cc_mlb_data['attend'],cc_mlb_data['yhat'], marker='o',color = 'k', alpha=0.5)\n",
    "plt.plot([lineStart, lineEnd], [lineStart, lineEnd], 'k-', color = 'r')\n",
    "plt.xlim(lineStart, lineEnd)\n",
    "plt.ylim(lineStart, lineEnd)\n",
    "plt.title('Predicted vs. Actual')\n",
    "plt.xlabel('Actual')\n",
    "plt.ylabel('Predicted')\n",
    "\n",
    "plt.show()"
   ]
  },
  {
   "cell_type": "code",
   "execution_count": 15,
   "metadata": {},
   "outputs": [
    {
     "data": {
      "image/png": "[encoded data removed]",
      "text/plain": [
       "<Figure size 432x288 with 1 Axes>"
      ]
     },
     "metadata": {
      "needs_background": "light"
     },
     "output_type": "display_data"
    }
   ],
   "source": [
    "boxplot = sns.boxplot(x=\"shirt\", y=\"attend\", data=cc_mlb_data)\n",
    "boxplot\n",
    "plt.savefig(\"figure.png\", bbox_inches = \"tight\")"
   ]
  },
  {
   "cell_type": "code",
   "execution_count": 16,
   "metadata": {},
   "outputs": [
    {
     "data": {
      "image/png": "[encoded data removed]",
      "text/plain": [
       "<Figure size 432x288 with 1 Axes>"
      ]
     },
     "metadata": {
      "needs_background": "light"
     },
     "output_type": "display_data"
    }
   ],
   "source": [
    "boxplot = sns.boxplot(x=\"cap\", y=\"attend\", data=cc_mlb_data)\n",
    "boxplot\n",
    "plt.savefig(\"figure.png\", bbox_inches = \"tight\")"
   ]
  }
 ],
 "metadata": {
  "colab": {
   "authorship_tag": "ABX9TyO0UVBdbn/sgMNfa8EZbmko",
   "collapsed_sections": [],
   "name": "ISTM 627-Summer 2021.ipynb",
   "provenance": []
  },
  "kernelspec": {
   "display_name": "Python 3",
   "language": "python",
   "name": "python3"
  },
  "language_info": {
   "codemirror_mode": {
    "name": "ipython",
    "version": 3
   },
   "file_extension": ".py",
   "mimetype": "text/x-python",
   "name": "python",
   "nbconvert_exporter": "python",
   "pygments_lexer": "ipython3",
   "version": "3.8.5"
  }
 },
 "nbformat": 4,
 "nbformat_minor": 4
}
